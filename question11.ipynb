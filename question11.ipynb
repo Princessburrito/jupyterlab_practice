{
 "cells": [
  {
   "cell_type": "markdown",
   "id": "2e6834a1-aee1-4e89-a019-8f69b6986879",
   "metadata": {},
   "source": [
    "# Julie\n",
    "Notebook for assignment 7"
   ]
  },
  {
   "cell_type": "code",
   "execution_count": 2,
   "id": "261cf9e5-daf1-49f8-a0ad-1d9f0a543ab8",
   "metadata": {},
   "outputs": [
    {
     "data": {
      "text/plain": [
       "5.0"
      ]
     },
     "execution_count": 2,
     "metadata": {},
     "output_type": "execute_result"
    }
   ],
   "source": [
    "def compute_mean(numerical_list):\n",
    "    total = sum(numerical_list)\n",
    "    number_elements = len(numerical_list)\n",
    "    mean = total/number_elements\n",
    "    return mean\n",
    "\n",
    "compute_mean([2, 4, 6, 8])"
   ]
  },
  {
   "cell_type": "markdown",
   "id": "e5fbb46b-046e-485d-8bc7-f6b315703185",
   "metadata": {},
   "source": [
    "The function above computes the mean of a numerical list.\n",
    "$$\n",
    "\\bar{x} = \\frac{x_1 + x_2 + \\ldots + x_n}{n} = \\frac{1}{n}\\left(\\sum_{i=1}^{n} x_i\\right)\n",
    "$$"
   ]
  },
  {
   "cell_type": "code",
   "execution_count": null,
   "id": "95987508-f03a-475b-acc3-1042bce723c3",
   "metadata": {},
   "outputs": [],
   "source": []
  }
 ],
 "metadata": {
  "kernelspec": {
   "display_name": "Python 3 (ipykernel)",
   "language": "python",
   "name": "python3"
  },
  "language_info": {
   "codemirror_mode": {
    "name": "ipython",
    "version": 3
   },
   "file_extension": ".py",
   "mimetype": "text/x-python",
   "name": "python",
   "nbconvert_exporter": "python",
   "pygments_lexer": "ipython3",
   "version": "3.12.2"
  }
 },
 "nbformat": 4,
 "nbformat_minor": 5
}
