{
 "cells": [
  {
   "cell_type": "markdown",
   "id": "7dfa38e7-2d60-4f71-90ca-d08d1f7bdbc2",
   "metadata": {},
   "source": [
    "We are currently working in the following directory:"
   ]
  },
  {
   "cell_type": "code",
   "execution_count": 1,
   "id": "87c8390b-1560-466b-a698-36a6aeffda34",
   "metadata": {},
   "outputs": [
    {
     "name": "stdout",
     "output_type": "stream",
     "text": [
      "/c/Users/JulieH/Downloads/student/jupyterlab_practice\n"
     ]
    }
   ],
   "source": [
    "!pwd"
   ]
  },
  {
   "cell_type": "markdown",
   "id": "4d711e54-0996-470b-b814-69fc669d046f",
   "metadata": {},
   "source": [
    "To time how long it takes to run a Python cell, we could use the timeit command inside a cell as is shown below:   Followed by the proper use of the timeit command to time the following loop:"
   ]
  },
  {
   "cell_type": "markdown",
   "id": "4c9a3c13-a90f-4519-8521-d37e5766f531",
   "metadata": {},
   "source": [
    "```python\n",
    "%%timeit\n",
    "for i in range(1_000_000):\n",
    "    i**2\n",
    "```"
   ]
  },
  {
   "cell_type": "code",
   "execution_count": 1,
   "id": "a7525841-f81e-4a4c-b07b-f53798047f89",
   "metadata": {},
   "outputs": [
    {
     "name": "stderr",
     "output_type": "stream",
     "text": [
      "[NbConvertApp] Converting notebook question12.ipynb to html\n",
      "[NbConvertApp] Writing 271479 bytes to output-filename.html\n"
     ]
    }
   ],
   "source": [
    "!jupyter nbconvert question12.ipynb \\\n",
    "    --to html \\\n",
    "    --output=output-filename.html \\\n",
    "    --no-input"
   ]
  },
  {
   "cell_type": "code",
   "execution_count": null,
   "id": "29691d2d-64b8-4669-84dc-f56ab2e1b145",
   "metadata": {},
   "outputs": [],
   "source": []
  }
 ],
 "metadata": {
  "kernelspec": {
   "display_name": "Python 3 (ipykernel)",
   "language": "python",
   "name": "python3"
  },
  "language_info": {
   "codemirror_mode": {
    "name": "ipython",
    "version": 3
   },
   "file_extension": ".py",
   "mimetype": "text/x-python",
   "name": "python",
   "nbconvert_exporter": "python",
   "pygments_lexer": "ipython3",
   "version": "3.12.2"
  }
 },
 "nbformat": 4,
 "nbformat_minor": 5
}
